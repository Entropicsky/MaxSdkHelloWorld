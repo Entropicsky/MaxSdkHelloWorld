{
 "cells": [
  {
   "cell_type": "markdown",
   "id": "4420b0b4-37e6-4dc8-9b37-50b12f2bf678",
   "metadata": {},
   "source": [
    "## Hello World\n",
    "(C) 2023 AnswerRocket, All rights reserved"
   ]
  },
  {
   "cell_type": "code",
   "execution_count": null,
   "id": "183f68d6-ac77-4dff-a3ef-e383db837ff8",
   "metadata": {},
   "outputs": [],
   "source": [
    "def register():\n",
    "    return {\n",
    "        'description': \"Hello World\",\n",
    "        'title': 'Hello World',\n",
    "        'type': 'Code Extension',\n",
    "        'framework': True,\n",
    "        'guide': False,\n",
    "        'allow remote function call': True, \n",
    "        'package name': 'hello_world',\n",
    "        'parameters': [\n",
    "            {\n",
    "                'label': \"Sentiment of the user's greeting\",\n",
    "                'key': 'sentiment',\n",
    "                'description': \"'good' if the user's greeting was nice, 'bad' if the user's greeting was not nice.\",\n",
    "                'type': 'string',\n",
    "                'optional': True\n",
    "            }\n",
    "\n",
    "        ],\n",
    "        \"training sentences\": []\n",
    "    }\n",
    "\n",
    "def chat_register():\n",
    "    return register()"
   ]
  },
  {
   "cell_type": "code",
   "execution_count": null,
   "id": "376477f1-6cba-4a8f-b3d1-acbf3aafc99b",
   "metadata": {},
   "outputs": [],
   "source": [
    "from toolkit.env import allow_callback\n",
    "\n",
    "@allow_callback\n",
    "def get_chat_response(ar, env, detailed_params=None, dataset_name=None, query=None, caller_answer_id=None, unused_pvals=None, skip_gpt_summarization=None, **kwargs):\n",
    "    import hello_world\n",
    "\n",
    "    my_json = hello_world.call_me()\n",
    "\n",
    "    message = my_json[\"message\"]\n",
    "    message2 = f\"Message: {message} sentiment={env.params['sentiment']}\"\n",
    "\n",
    "    greeting = hello_world.get_greeting()\n",
    "\n",
    "    app = \"\"\"<Box height=\"500px\"><HTMLIFrame>{}<p>{}</p></HTMLIFrame></Box>\"\"\"\n",
    "    app = app.format(greeting, message2)\n",
    "\n",
    "    return {\"final_message\":\"\",\n",
    "            \"facts\": \"\",\n",
    "            \"suggestions\": [],\n",
    "            \"payload\": app}\n"
   ]
  }
 ],
 "metadata": {
  "kernelspec": {
   "display_name": "Python 3 (ipykernel)",
   "language": "python",
   "name": "python3"
  },
  "language_info": {
   "codemirror_mode": {
    "name": "ipython",
    "version": 3
   },
   "file_extension": ".py",
   "mimetype": "text/x-python",
   "name": "python",
   "nbconvert_exporter": "python",
   "pygments_lexer": "ipython3",
   "version": "3.10.7"
  }
 },
 "nbformat": 4,
 "nbformat_minor": 5
}
